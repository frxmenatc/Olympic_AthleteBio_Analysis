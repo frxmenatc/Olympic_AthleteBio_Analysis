{
  "cells": [
    {
      "cell_type": "code",
      "execution_count": null,
      "metadata": {
        "id": "WFla-2AmyYtz"
      },
      "outputs": [],
      "source": [
        "import sys\n",
        "import pandas as pd\n",
        "import numpy as np"
      ]
    },
    {
      "cell_type": "code",
      "execution_count": null,
      "metadata": {
        "id": "kN1HVl5QytSi"
      },
      "outputs": [],
      "source": [
        "df_olympic = pd.read_csv('/content/Olympic_Athlete_Biography.csv')\n",
        "df_olympic"
      ]
    },
    {
      "cell_type": "code",
      "execution_count": null,
      "metadata": {
        "id": "drP732T18A4w",
        "collapsed": true
      },
      "outputs": [],
      "source": [
        "df_result = pd.read_csv('/content/Olympic_Athlete_Event_Details.csv')\n",
        "df_result"
      ]
    },
    {
      "cell_type": "markdown",
      "source": [
        "Merge Data by Ahtlete ID"
      ],
      "metadata": {
        "id": "ugjGH8z4bu7C"
      }
    },
    {
      "cell_type": "code",
      "execution_count": null,
      "metadata": {
        "id": "61nfqB2iVZ7u"
      },
      "outputs": [],
      "source": [
        "df_inner = pd.merge(df_result, df_olympic, left_on=['athlete_id'], right_on=['athlete_id'])\n",
        "df_inner"
      ]
    },
    {
      "cell_type": "code",
      "source": [
        "print(df_inner.isnull().sum())"
      ],
      "metadata": {
        "id": "I9kvC0qbWiRC"
      },
      "execution_count": null,
      "outputs": []
    },
    {
      "cell_type": "markdown",
      "source": [
        "นำเอา Event ที่มีชื่อว่า Boys เนื่องจากไม่มีการมอบเหรียญและไม่มีการบันทึกน้ำหนักส่วนสูง"
      ],
      "metadata": {
        "id": "qivEFEDQb5qA"
      }
    },
    {
      "cell_type": "code",
      "source": [
        "count_boys = df_inner['event'].str.lower().str.contains('boys', na=False).sum()\n",
        "print(f\"Number of rows where 'event' contains 'boys': {count_boys}\")"
      ],
      "metadata": {
        "id": "pcCdampp5rki"
      },
      "execution_count": null,
      "outputs": []
    },
    {
      "cell_type": "markdown",
      "source": [
        "เปลี่ยนข้อมูลในช่อง Edition ให้เป็นปีที่แข่งทั้งหมดเพื่อนำไปคำนวนอายุของนักกีฬา ณ ปีที่แข่ง"
      ],
      "metadata": {
        "id": "9MpHCN9xcXGA"
      }
    },
    {
      "cell_type": "code",
      "source": [
        "def remove_non_numeric(text):\n",
        "  import re\n",
        "  return re.sub(r'\\D', '', text)\n",
        "\n",
        "df_inner['edition'] = df_inner['edition'].apply(remove_non_numeric)\n",
        "\n",
        "print(df_inner)"
      ],
      "metadata": {
        "id": "Zy0rDrrPDHTD"
      },
      "execution_count": null,
      "outputs": []
    },
    {
      "cell_type": "markdown",
      "source": [
        "คำนวนและสร้าง Column ใหม่เพื่อเก็บค่าอายุ"
      ],
      "metadata": {
        "id": "UeKp_6SccpHi"
      }
    },
    {
      "cell_type": "code",
      "source": [
        "df_inner['edition'] = pd.to_numeric(df_inner['edition'], errors='coerce')\n",
        "\n",
        "df_inner['born'] = pd.to_datetime(df_inner['born'], errors='coerce')\n",
        "\n",
        "df_inner['age'] = df_inner.apply(lambda row: row['edition'] - row['born'].year if pd.notnull(row['born']) and pd.notnull(row['edition']) else None, axis=1)\n",
        "\n",
        "df_inner[['athlete', 'born', 'edition', 'age']].head()"
      ],
      "metadata": {
        "id": "ulasS5gZCV4G"
      },
      "execution_count": null,
      "outputs": []
    },
    {
      "cell_type": "markdown",
      "source": [
        "ฟังก์ชันเพื่อแทนที่ข้อมูลน้ำหนักและส่วนสูงที่มีค่าเป็นช่วง ด้วยค่าเฉลี่ย เช่น กรณี '63-67' แทนด้วย (63+67)/2"
      ],
      "metadata": {
        "id": "FYIIX7i3c3nJ"
      }
    },
    {
      "cell_type": "code",
      "source": [
        "def convert_range_to_mean(value):\n",
        "    if isinstance(value, str) and '-' in value:\n",
        "        try:\n",
        "            low, high = map(float, value.split('-'))\n",
        "            return (low + high) / 2\n",
        "        except:\n",
        "            return np.nan\n",
        "    try:\n",
        "        return float(value)\n",
        "    except:\n",
        "        return np.nan\n",
        "\n",
        "df_inner['height'] = df_inner['height'].apply(convert_range_to_mean)\n",
        "df_inner['weight'] = df_inner['weight'].apply(convert_range_to_mean)\n"
      ],
      "metadata": {
        "id": "0Li4-ZIjdVXp"
      },
      "execution_count": null,
      "outputs": []
    },
    {
      "cell_type": "markdown",
      "source": [
        "แบ่งข้อมูลตามประเภทกีฬาและเพศ คำนวณค่า Mean ของ height, weight, age ในแต่ละกลุ่ม เพื่อเติม Missing Value"
      ],
      "metadata": {
        "id": "MPk29QyodYr5"
      }
    },
    {
      "cell_type": "code",
      "source": [
        "groups = df_inner.groupby(['sport', 'sex'])\n",
        "\n",
        "mean_values = groups[['height', 'weight', 'age']].mean()\n",
        "\n",
        "def fill_missing_values(row):\n",
        "    if pd.isnull(row['height']):\n",
        "        row['height'] = mean_values.loc[(row['sport'], row['sex']), 'height']\n",
        "    if pd.isnull(row['weight']):\n",
        "        row['weight'] = mean_values.loc[(row['sport'], row['sex']), 'weight']\n",
        "    if pd.isnull(row['age']):\n",
        "        row['age'] = mean_values.loc[(row['sport'], row['sex']), 'age']\n",
        "    return row\n",
        "\n",
        "df_inner = df_inner.apply(fill_missing_values, axis=1)\n",
        "\n",
        "df_inner[['sport', 'sex', 'height', 'weight', 'age']].head()"
      ],
      "metadata": {
        "id": "7A6xG6dzCChs"
      },
      "execution_count": null,
      "outputs": []
    },
    {
      "cell_type": "code",
      "source": [
        "df_inner.dropna(subset=['height', 'weight', 'age'], inplace=True)\n",
        "\n",
        "print(df_inner.isnull().sum())"
      ],
      "metadata": {
        "id": "7sfH6k2f7Nlo"
      },
      "execution_count": null,
      "outputs": []
    },
    {
      "cell_type": "markdown",
      "source": [
        "ลบข้อมูลใน Column pos ที่ไม่ได้เป็นตัวเลขและตัวเลขที่ไม่แสดงอันดับของการแข่งชัน"
      ],
      "metadata": {
        "id": "zN5z7R7Ld9wy"
      }
    },
    {
      "source": [
        "import re\n",
        "\n",
        "def is_numeric_ranking(pos):\n",
        "  \"\"\"\n",
        "  Checks if the ranking is numeric.\n",
        "  It should not contain 'h', 'r' or '/'.\n",
        "  \"\"\"\n",
        "  match = re.match(r'^\\d+$', str(pos))\n",
        "  return bool(match)\n",
        "\n",
        "df_inner_cleaned = df_inner[df_inner['pos'].apply(is_numeric_ranking)]\n",
        "\n",
        "df_inner_cleaned[['athlete', 'pos']].head()"
      ],
      "cell_type": "code",
      "metadata": {
        "id": "1uyjLHB3dFqs"
      },
      "execution_count": null,
      "outputs": []
    },
    {
      "cell_type": "code",
      "source": [
        "df_inner_cleaned.to_csv('df_inner_cleaned.csv', index=False)"
      ],
      "metadata": {
        "id": "AQiETsZPdN7o"
      },
      "execution_count": null,
      "outputs": []
    },
    {
      "cell_type": "code",
      "source": [
        "import altair as alt\n",
        "df_medals_by_country = df_inner_cleaned.groupby('country')['medal'].count().reset_index(name='medal_count')"
      ],
      "metadata": {
        "id": "Gme1P-T3fsXT"
      },
      "execution_count": null,
      "outputs": []
    },
    {
      "cell_type": "code",
      "source": [
        "df_medals_by_country = df_inner_cleaned.groupby('country')['medal'].count().reset_index(name='medal_count').sort_values(by='medal_count', ascending=False)\n",
        "\n",
        "alt.Chart(df_medals_by_country).mark_bar().encode(\n",
        "    x='medal_count',\n",
        "    y=alt.Y('country', sort='-x')\n",
        ")"
      ],
      "metadata": {
        "id": "NalvX4b7gOz-"
      },
      "execution_count": null,
      "outputs": []
    },
    {
      "source": [
        "df_athletes_by_sport = df_inner_cleaned.groupby('sport')['athlete'].nunique().reset_index(name='athlete_count').sort_values(by='athlete_count', ascending=False)\n",
        "\n",
        "bars = alt.Chart(df_athletes_by_sport).mark_bar().encode(\n",
        "    x='athlete_count',\n",
        "    y=alt.Y('sport', sort='-x')\n",
        ")\n",
        "\n",
        "text = bars.mark_text(\n",
        "    align='left',\n",
        "    baseline='middle',\n",
        "    dx=3  # distance from bar to text\n",
        ").encode(\n",
        "    text='athlete_count'\n",
        ")\n",
        "\n",
        "(bars + text)"
      ],
      "cell_type": "code",
      "metadata": {
        "id": "61lG7uFmmmOB"
      },
      "execution_count": null,
      "outputs": []
    },
    {
      "source": [
        "sports = ['Athletics', 'Swimming', 'Rowing', 'Football', 'Sailing', 'Ice Hockey', 'Shooting', 'Artistic Gymnastics'] # Added 'Artistic Gymnastics'\n",
        "avg_height = []\n",
        "\n",
        "for sport in sports:\n",
        "  avg_height_medal_winners = df_inner_cleaned[(df_inner_cleaned['medal'].notnull()) & (df_inner_cleaned['sport'] == sport)]['height'].mean()\n",
        "  avg_height_others = df_inner_cleaned[(df_inner_cleaned['medal'].isnull()) & (df_inner_cleaned['sport'] == sport)]['height'].mean()\n",
        "  avg_height.append([sport, 'Medal Winners', avg_height_medal_winners])\n",
        "  avg_height.append([sport, 'Others', avg_height_others])\n",
        "\n",
        "df_avg_height = pd.DataFrame(avg_height, columns=['sport', 'athlete_type', 'avg_height'])\n",
        "\n",
        "alt.Chart(df_avg_height).mark_bar().encode(\n",
        "    x='athlete_type',\n",
        "    y='avg_height',\n",
        "    color='athlete_type',\n",
        "    column='sport'\n",
        ")"
      ],
      "cell_type": "code",
      "metadata": {
        "id": "8qCPEJUSn44d"
      },
      "execution_count": null,
      "outputs": []
    },
    {
      "source": [
        "sports = ['Athletics', 'Swimming', 'Rowing', 'Football', 'Sailing', 'Ice Hockey', 'Shooting', 'Artistic Gymnastics']\n",
        "avg_weight = []\n",
        "\n",
        "for sport in sports:\n",
        "  avg_weight_medal_winners = df_inner_cleaned[(df_inner_cleaned['medal'].notnull()) & (df_inner_cleaned['sport'] == sport)]['weight'].mean()\n",
        "  avg_weight_others = df_inner_cleaned[(df_inner_cleaned['medal'].isnull()) & (df_inner_cleaned['sport'] == sport)]['weight'].mean()\n",
        "  diff = avg_weight_medal_winners - avg_weight_others\n",
        "  avg_weight.append([sport, 'Medal', avg_weight_medal_winners, diff]) # Changed 'Medal Winners' to 'Medal'\n",
        "  avg_weight.append([sport, 'No Medal', avg_weight_others, diff]) # Changed 'Others' to 'No Medal'\n",
        "\n",
        "df_avg_weight = pd.DataFrame(avg_weight, columns=['sport', 'athlete_type', 'avg_weight', 'diff'])\n",
        "\n",
        "# Create the base chart with layering first\n",
        "bars = alt.Chart(df_avg_weight).mark_bar().encode(\n",
        "    x='athlete_type',\n",
        "    y='avg_weight',\n",
        "    color='athlete_type'\n",
        ")\n",
        "\n",
        "# Apply faceting to the layered chart\n",
        "(bars).facet(\n",
        "    column='sport'\n",
        ")"
      ],
      "cell_type": "code",
      "metadata": {
        "id": "SbgrJJxvpEct"
      },
      "execution_count": null,
      "outputs": []
    },
    {
      "source": [
        "sports = ['Athletics', 'Swimming', 'Rowing', 'Football', 'Sailing', 'Ice Hockey', 'Shooting', 'Artistic Gymnastics'] # Added 'Artistic Gymnastics'\n",
        "age = []\n",
        "\n",
        "for sport in sports:\n",
        "  age_medal_winners = df_inner_cleaned[(df_inner_cleaned['medal'].notnull()) & (df_inner_cleaned['sport'] == sport)]['age'].mean()\n",
        "  age_others = df_inner_cleaned[(df_inner_cleaned['medal'].isnull()) & (df_inner_cleaned['sport'] == sport)]['age'].mean()\n",
        "  diff = age_medal_winners - age_others\n",
        "  age.append([sport, 'Medal Winners', age_medal_winners, diff])\n",
        "  age.append([sport, 'Others', age_others, diff])\n",
        "\n",
        "df_age = pd.DataFrame(age, columns=['sport', 'athlete_type', 'avg_age', 'diff'])\n",
        "\n",
        "# Create the base chart with layering first\n",
        "bars = alt.Chart(df_age).mark_bar().encode(\n",
        "    x='athlete_type',\n",
        "    y='avg_age',\n",
        "    color='athlete_type'\n",
        ")\n",
        "\n",
        "# Apply faceting to the layered chart\n",
        "(bars).facet(\n",
        "    column='sport'\n",
        ")"
      ],
      "cell_type": "code",
      "metadata": {
        "id": "IgZ3MR2QqEqb"
      },
      "execution_count": null,
      "outputs": []
    },
    {
      "source": [
        "import altair as alt\n",
        "import pandas as pd\n",
        "\n",
        "alt.data_transformers.disable_max_rows() # Disable the max rows limit\n",
        "\n",
        "# Create a new column 'medal_won' based on 'medal' column\n",
        "df_inner_cleaned['medal_won'] = df_inner_cleaned['medal'].apply(lambda x: 'Medal' if not pd.isnull(x) else 'No Medal')\n",
        "\n",
        "# Height vs Weight Chart with color gradient for age\n",
        "alt.Chart(df_inner_cleaned).mark_point().encode(\n",
        "    x='height',\n",
        "    y='weight',\n",
        "    color=alt.Color('age', scale=alt.Scale(scheme='viridis')),  # Color gradient for age\n",
        "    size='age'  # Adjust point size based on age\n",
        ").properties(\n",
        "    title='Height vs Weight for Medal Winners and Others'\n",
        ").facet(\n",
        "    row='medal_won'  # Separate the chart by medal_won into rows\n",
        ")"
      ],
      "cell_type": "code",
      "metadata": {
        "id": "51UlEvxWTqCd"
      },
      "execution_count": null,
      "outputs": []
    },
    {
      "cell_type": "code",
      "source": [
        "df_inner_cleaned['pos'] = pd.to_numeric(df_inner_cleaned['pos'])"
      ],
      "metadata": {
        "id": "5xnYwWvnsQUa"
      },
      "execution_count": null,
      "outputs": []
    },
    {
      "source": [
        "import seaborn as sns\n",
        "import matplotlib.pyplot as plt\n",
        "\n",
        "# Calculate the correlation matrix\n",
        "corr = df_inner_cleaned[['height', 'weight', 'age', 'pos']].corr()\n",
        "\n",
        "# Create a heatmap using seaborn\n",
        "plt.figure(figsize=(10, 8))\n",
        "sns.heatmap(corr, annot=True, cmap='coolwarm')\n",
        "plt.title('Correlation Matrix')\n",
        "plt.show()"
      ],
      "cell_type": "code",
      "metadata": {
        "id": "hwlMbrVhtYyC"
      },
      "execution_count": 2,
      "outputs": []
    },
    {
      "source": [
        "import seaborn as sns\n",
        "import matplotlib.pyplot as plt\n",
        "\n",
        "# Define a list of sports to include in the correlation matrices\n",
        "sports = ['Athletics', 'Swimming', 'Rowing', 'Football', 'Sailing', 'Ice Hockey', 'Shooting', 'Artistic Gymnastics']\n",
        "\n",
        "# Create a figure with subplots for each sport\n",
        "fig, axes = plt.subplots(nrows=2, ncols=4, figsize=(20, 10))\n",
        "axes = axes.flatten()\n",
        "\n",
        "# Iterate over the sports and create a correlation matrix for each one\n",
        "for i, sport in enumerate(sports):\n",
        "    # Filter the DataFrame for the current sport\n",
        "    df_sport = df_inner_cleaned[df_inner_cleaned['sport'] == sport]\n",
        "\n",
        "    # Calculate the correlation matrix\n",
        "    corr = df_sport[['height', 'weight', 'age', 'pos']].corr()\n",
        "\n",
        "    # Create a heatmap for the current sport\n",
        "    sns.heatmap(corr, annot=True, cmap='coolwarm', ax=axes[i])\n",
        "    axes[i].set_title(f'Correlation Matrix for {sport}')\n",
        "\n",
        "# Adjust the layout and display the plot\n",
        "plt.tight_layout()\n",
        "plt.show()"
      ],
      "cell_type": "code",
      "metadata": {
        "id": "n76jOfaety9O"
      },
      "execution_count": null,
      "outputs": []
    }
  ],
  "metadata": {
    "colab": {
      "provenance": [],
      "gpuType": "V28"
    },
    "kernelspec": {
      "display_name": "Python 3",
      "name": "python3"
    },
    "language_info": {
      "name": "python"
    },
    "accelerator": "TPU"
  },
  "nbformat": 4,
  "nbformat_minor": 0
}